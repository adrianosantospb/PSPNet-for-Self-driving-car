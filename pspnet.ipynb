{
 "cells": [
  {
   "cell_type": "code",
   "execution_count": 6,
   "metadata": {},
   "outputs": [],
   "source": [
    "import torch\n",
    "import torch.optim as optim\n",
    "from torch.optim.lr_scheduler import OneCycleLR\n",
    "import logging\n",
    "\n",
    "# dataset\n",
    "import albumentations as A\n",
    "from albumentations.pytorch import ToTensorV2\n",
    "\n",
    "# project\n",
    "from src.core.config import DatasetConfig, HyperParameters\n",
    "from src.test import testing\n",
    "from src.train import evaluating, training\n",
    "from src.utils.helpers import get_color_maps, load_weights, save_weights, show_prediction, split_dataset\n",
    "from src.dataset.kitti import KittiSegDataset\n",
    "from src.models.psnet import PSPNet, pspnet_loss\n",
    "from src.core.metrics import meanIoU \n",
    "\n",
    "torch.cuda.empty_cache()"
   ]
  },
  {
   "cell_type": "code",
   "execution_count": 8,
   "metadata": {},
   "outputs": [],
   "source": [
    "device = \"cuda\" if torch.cuda.is_available() else \"cpu\"\n",
    "hyper_parameters = HyperParameters()\n",
    "id_to_color = get_color_maps()\n",
    "\n",
    "# find optimal backend for performing convolutions \n",
    "torch.backends.cudnn.benchmark = True\n",
    "\n",
    "config = DatasetConfig()\n"
   ]
  },
  {
   "cell_type": "code",
   "execution_count": 4,
   "metadata": {},
   "outputs": [],
   "source": [
    "def train_fn(config):\n",
    "\n",
    "    # ********************************** Conf **********************************\n",
    "\n",
    "    logging.basicConfig(format='%(levelname)s:%(message)s', level=logging.INFO)\n",
    "    logger = logging.getLogger(__name__)\n",
    "\n",
    "    # ********************************** Datset **********************************\n",
    "    train_files_list, val_files_list = split_dataset(train_size=0.8)\n",
    "\n",
    "    #https://albumentations.ai/docs/examples/pytorch_semantic_segmentation/\n",
    "    # transforms\n",
    "    train_transform = A.Compose(\n",
    "        [\n",
    "            A.Resize(config.image_size, config.image_size),\n",
    "            A.ShiftScaleRotate(shift_limit=0.2, scale_limit=0.2, rotate_limit=30, p=0.5),\n",
    "            A.RGBShift(r_shift_limit=25, g_shift_limit=25, b_shift_limit=25, p=0.5),\n",
    "            A.RandomBrightnessContrast(brightness_limit=0.3, contrast_limit=0.3, p=0.5),\n",
    "            A.Normalize(mean=(0.485, 0.456, 0.406), std=(0.229, 0.224, 0.225)),\n",
    "            ToTensorV2(),\n",
    "        ]\n",
    "    )\n",
    "\n",
    "    val_and_test_transform = A.Compose(\n",
    "        [A.Resize(config.image_size, config.image_size), A.Normalize(mean=(0.485, 0.456, 0.406), std=(0.229, 0.224, 0.225)), ToTensorV2()]\n",
    "    )\n",
    "\n",
    "    train_dataset = KittiSegDataset(train_files_list, transform=train_transform)\n",
    "    val_dataset = KittiSegDataset(val_files_list, transform=val_and_test_transform)\n",
    "    \n",
    "    # Model instance\n",
    "    model = PSPNet(in_channels=3, num_classes=hyper_parameters.n_classes, use_aux=True)\n",
    "    model.to(device)\n",
    "\n",
    "    # ********************************** Hyperparameters **********************************\n",
    "    num_worker = 4 * int(torch.cuda.device_count())\n",
    "    train_dataloader = torch.utils.data.DataLoader(train_dataset, shuffle=True, batch_size=hyper_parameters.batch_size,drop_last=True, num_workers=num_worker, pin_memory=True)\n",
    "    val_dataloader = torch.utils.data.DataLoader(val_dataset,batch_size=hyper_parameters.batch_size, num_workers=num_worker, pin_memory=True)\n",
    "    \n",
    "    optimizer = optim.Adam(model.parameters(), lr=hyper_parameters.max_lr)\n",
    "    scheduler = OneCycleLR(optimizer, max_lr= hyper_parameters.max_lr, epochs = hyper_parameters.n_epochs, steps_per_epoch = 2*(len(train_dataloader)), \n",
    "                        pct_start=0.3, div_factor=10, anneal_strategy='cos')\n",
    "    \n",
    "    # reference : https://smp.readthedocs.io/en/latest/losses.html\n",
    "    criterion = pspnet_loss(num_classes = hyper_parameters.n_classes, aux_weight=0.4)\n",
    "\n",
    "    # aux\n",
    "    best_metric = 0\n",
    "\n",
    "    # Treinamento e Validacao\n",
    "    for epoch in range(hyper_parameters.n_epochs):\n",
    "        torch.cuda.empty_cache()\n",
    "\n",
    "        logger.info('*********** Epoch {} *********** \\n'.format(int(epoch)+1))        \n",
    "        \n",
    "        # Training\n",
    "        train_loss = training(model, train_dataloader, criterion, scheduler, optimizer, device)\n",
    "        logger.info('Training loss: {}'.format(str(train_loss)))\n",
    "        \n",
    "        # Validation# Train\n",
    "        evaluation_loss, evaluation_metric = evaluating(model, val_dataloader, criterion, meanIoU, hyper_parameters.n_classes, device=device)\n",
    "        logger.info('Evaluation loss: {} and Evaluation metric: {} \\n'.format(str(evaluation_loss), str(evaluation_metric)))\n",
    "\n",
    "        # Saving the best model according to evaluation_metric\n",
    "        if best_metric < evaluation_metric:\n",
    "            save_weights(model, hyper_parameters.file_name, hyper_parameters.dir_base)\n",
    "            best_metric = evaluation_metric\n",
    "\n",
    "        # Clean cuda cache\n",
    "        torch.cuda.empty_cache()\n",
    "\n",
    "    logger.info(\"\\n Using the arc {} the best val loss in {} epochs was {}.\".format(hyper_parameters.file_name, hyper_parameters.n_epochs, evaluation_metric))\n",
    "    \n",
    "    del model\n",
    "    torch.cuda.empty_cache()\n",
    "\n",
    "def test_fn(config):\n",
    "\n",
    "    _, val_files_list = split_dataset(train_size=0.8) # just for testing\n",
    "    val_and_test_transform = A.Compose(\n",
    "        [A.Resize(config.image_size, config.image_size), A.Normalize(mean=(0.485, 0.456, 0.406), std=(0.229, 0.224, 0.225)), ToTensorV2()]\n",
    "    )\n",
    "    test_dataset = KittiSegDataset(val_files_list, transform=val_and_test_transform)\n",
    "\n",
    "    # Load model\n",
    "    model = PSPNet(in_channels=3, num_classes=hyper_parameters.n_classes, use_aux=True)\n",
    "    model.to(device)\n",
    "\n",
    "    load_weights(model, hyper_parameters.weights_path)\n",
    "    \n",
    "    image, label, predicted = testing(model, test_dataset, device=device)\n",
    "\n",
    "    show_prediction(image, label, predicted, id_to_color)"
   ]
  },
  {
   "cell_type": "code",
   "execution_count": null,
   "metadata": {},
   "outputs": [],
   "source": [
    "# Train\n",
    "train_fn(config)"
   ]
  },
  {
   "cell_type": "code",
   "execution_count": 9,
   "metadata": {},
   "outputs": [
    {
     "ename": "TypeError",
     "evalue": "__init__() got an unexpected keyword argument 'out_channels'",
     "output_type": "error",
     "traceback": [
      "\u001b[0;31m---------------------------------------------------------------------------\u001b[0m",
      "\u001b[0;31mTypeError\u001b[0m                                 Traceback (most recent call last)",
      "Cell \u001b[0;32mIn[9], line 1\u001b[0m\n\u001b[0;32m----> 1\u001b[0m \u001b[43mtest_fn\u001b[49m\u001b[43m(\u001b[49m\u001b[43mconfig\u001b[49m\u001b[43m)\u001b[49m\n",
      "Cell \u001b[0;32mIn[4], line 86\u001b[0m, in \u001b[0;36mtest_fn\u001b[0;34m(config)\u001b[0m\n\u001b[1;32m     83\u001b[0m test_dataset \u001b[38;5;241m=\u001b[39m KittiSegDataset(val_files_list, transform\u001b[38;5;241m=\u001b[39mval_and_test_transform)\n\u001b[1;32m     85\u001b[0m \u001b[38;5;66;03m# Load model\u001b[39;00m\n\u001b[0;32m---> 86\u001b[0m model \u001b[38;5;241m=\u001b[39m \u001b[43mPSPNet\u001b[49m\u001b[43m(\u001b[49m\u001b[43min_channels\u001b[49m\u001b[38;5;241;43m=\u001b[39;49m\u001b[38;5;241;43m3\u001b[39;49m\u001b[43m,\u001b[49m\u001b[43m \u001b[49m\u001b[43mout_channels\u001b[49m\u001b[38;5;241;43m=\u001b[39;49m\u001b[43mhyper_parameters\u001b[49m\u001b[38;5;241;43m.\u001b[39;49m\u001b[43mn_classes\u001b[49m\u001b[43m)\u001b[49m\n\u001b[1;32m     87\u001b[0m model\u001b[38;5;241m.\u001b[39mto(device)\n\u001b[1;32m     89\u001b[0m load_weights(model, hyper_parameters\u001b[38;5;241m.\u001b[39mweights_path)\n",
      "\u001b[0;31mTypeError\u001b[0m: __init__() got an unexpected keyword argument 'out_channels'"
     ]
    }
   ],
   "source": [
    "test_fn(config)"
   ]
  },
  {
   "cell_type": "code",
   "execution_count": null,
   "metadata": {},
   "outputs": [],
   "source": []
  }
 ],
 "metadata": {
  "kernelspec": {
   "display_name": "env",
   "language": "python",
   "name": "python3"
  },
  "language_info": {
   "codemirror_mode": {
    "name": "ipython",
    "version": 3
   },
   "file_extension": ".py",
   "mimetype": "text/x-python",
   "name": "python",
   "nbconvert_exporter": "python",
   "pygments_lexer": "ipython3",
   "version": "3.8.8"
  }
 },
 "nbformat": 4,
 "nbformat_minor": 2
}
